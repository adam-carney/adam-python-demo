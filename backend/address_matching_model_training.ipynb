{
 "cells": [
  {
   "cell_type": "code",
   "execution_count": 81,
   "metadata": {},
   "outputs": [],
   "source": [
    "import pandas as pd\n",
    "from splink import DuckDBAPI, block_on, Linker, SettingsCreator\n",
    "import splink.comparison_library as cl\n",
    "import splink.comparison_level_library as cll\n",
    "import database_processing as dbp\n",
    "\n",
    "#asq_test_details = pd.read_sql(\"SELECT respondent_address_id, street_address || ' ' || city || ' ' ||  state || ' ' || postalcode as address FROM asq.asq_test_details where asq_test_filename='mock_respondent_data_upload_20250113221821_ea31eaa6.xlsx'\", dbp.create_database_engine())\n",
    "#respondent_address = pd.read_sql(\"SELECT respondent_address_id,  street_address || ' ' || city || ' ' ||  state || ' ' || postalcode as address FROM directory.respondent_address\", dbp.create_database_engine())\n",
    "asq_test_details = pd.read_sql(\"SELECT respondent_address_id as unique_id, street_address,city,state,postalcode FROM asq.asq_test_details where asq_test_filename='mock_respondent_data_upload_20250113221821_ea31eaa6.xlsx'\", dbp.create_database_engine())\n",
    "respondent_address = pd.read_sql(\"SELECT respondent_address_id as unique_id, street_address,city,state,postalcode FROM directory.respondent_address \", dbp.create_database_engine())"
   ]
  },
  {
   "cell_type": "code",
   "execution_count": 21,
   "metadata": {},
   "outputs": [
    {
     "data": {
      "text/plain": [
       "(2700, 107780)"
      ]
     },
     "execution_count": 21,
     "metadata": {},
     "output_type": "execute_result"
    }
   ],
   "source": [
    "len(asq_test_details), len(respondent_address)"
   ]
  },
  {
   "cell_type": "code",
   "execution_count": 35,
   "metadata": {},
   "outputs": [
    {
     "data": {
      "text/html": [
       "<div>\n",
       "<style scoped>\n",
       "    .dataframe tbody tr th:only-of-type {\n",
       "        vertical-align: middle;\n",
       "    }\n",
       "\n",
       "    .dataframe tbody tr th {\n",
       "        vertical-align: top;\n",
       "    }\n",
       "\n",
       "    .dataframe thead th {\n",
       "        text-align: right;\n",
       "    }\n",
       "</style>\n",
       "<table border=\"1\" class=\"dataframe\">\n",
       "  <thead>\n",
       "    <tr style=\"text-align: right;\">\n",
       "      <th></th>\n",
       "      <th>unique_id</th>\n",
       "      <th>address</th>\n",
       "    </tr>\n",
       "  </thead>\n",
       "  <tbody>\n",
       "    <tr>\n",
       "      <th>0</th>\n",
       "      <td>d6b613f7-6b6e-4dab-9990-e1a694271f32</td>\n",
       "      <td>7 CORINTHIAN C  NOVATO CA 94947</td>\n",
       "    </tr>\n",
       "    <tr>\n",
       "      <th>1</th>\n",
       "      <td>69a25a44-961c-471e-9b8a-d011ca746c2d</td>\n",
       "      <td>32 PINE TREE CT  SAN RAFAEL CA 94903</td>\n",
       "    </tr>\n",
       "    <tr>\n",
       "      <th>2</th>\n",
       "      <td>51fe370a-2da6-4d37-9013-c984ae68df3f</td>\n",
       "      <td>17 ALPINE RD  NOVATO CA 94945</td>\n",
       "    </tr>\n",
       "    <tr>\n",
       "      <th>3</th>\n",
       "      <td>c5b483c9-123e-478b-ad88-323f3536921f</td>\n",
       "      <td>5 FRIENDLY LN  NOVATO CA 94945</td>\n",
       "    </tr>\n",
       "    <tr>\n",
       "      <th>4</th>\n",
       "      <td>1c12235b-4037-4373-a860-660c24f151b7</td>\n",
       "      <td>44 PINHEIRO CI  NOVATO CA 94945</td>\n",
       "    </tr>\n",
       "    <tr>\n",
       "      <th>...</th>\n",
       "      <td>...</td>\n",
       "      <td>...</td>\n",
       "    </tr>\n",
       "    <tr>\n",
       "      <th>2695</th>\n",
       "      <td>1c2b68a5-51e3-46cc-b13f-90a4773a3279</td>\n",
       "      <td>6326 Sutteridge Parkway Glendale CA 91210</td>\n",
       "    </tr>\n",
       "    <tr>\n",
       "      <th>2696</th>\n",
       "      <td>959bf771-7d19-4f7b-9c88-363dec758f77</td>\n",
       "      <td>5 Elka Circle Santa Monica CA 90405</td>\n",
       "    </tr>\n",
       "    <tr>\n",
       "      <th>2697</th>\n",
       "      <td>ecd4e25d-05e6-4dd1-a325-69d4ac7cb582</td>\n",
       "      <td>9447 Springs Avenue Sacramento CA 94280</td>\n",
       "    </tr>\n",
       "    <tr>\n",
       "      <th>2698</th>\n",
       "      <td>cf428a1b-c446-4451-a422-e48b228c03f4</td>\n",
       "      <td>7141 Shopko Plaza San Francisco CA 94116</td>\n",
       "    </tr>\n",
       "    <tr>\n",
       "      <th>2699</th>\n",
       "      <td>56515b4f-444b-4a0a-9b8c-9bbbe102e6ad</td>\n",
       "      <td>456 Center Junction Santa Rosa CA 95405</td>\n",
       "    </tr>\n",
       "  </tbody>\n",
       "</table>\n",
       "<p>2700 rows × 2 columns</p>\n",
       "</div>"
      ],
      "text/plain": [
       "                                 unique_id  \\\n",
       "0     d6b613f7-6b6e-4dab-9990-e1a694271f32   \n",
       "1     69a25a44-961c-471e-9b8a-d011ca746c2d   \n",
       "2     51fe370a-2da6-4d37-9013-c984ae68df3f   \n",
       "3     c5b483c9-123e-478b-ad88-323f3536921f   \n",
       "4     1c12235b-4037-4373-a860-660c24f151b7   \n",
       "...                                    ...   \n",
       "2695  1c2b68a5-51e3-46cc-b13f-90a4773a3279   \n",
       "2696  959bf771-7d19-4f7b-9c88-363dec758f77   \n",
       "2697  ecd4e25d-05e6-4dd1-a325-69d4ac7cb582   \n",
       "2698  cf428a1b-c446-4451-a422-e48b228c03f4   \n",
       "2699  56515b4f-444b-4a0a-9b8c-9bbbe102e6ad   \n",
       "\n",
       "                                        address  \n",
       "0               7 CORINTHIAN C  NOVATO CA 94947  \n",
       "1          32 PINE TREE CT  SAN RAFAEL CA 94903  \n",
       "2                 17 ALPINE RD  NOVATO CA 94945  \n",
       "3                5 FRIENDLY LN  NOVATO CA 94945  \n",
       "4               44 PINHEIRO CI  NOVATO CA 94945  \n",
       "...                                         ...  \n",
       "2695  6326 Sutteridge Parkway Glendale CA 91210  \n",
       "2696        5 Elka Circle Santa Monica CA 90405  \n",
       "2697    9447 Springs Avenue Sacramento CA 94280  \n",
       "2698   7141 Shopko Plaza San Francisco CA 94116  \n",
       "2699    456 Center Junction Santa Rosa CA 95405  \n",
       "\n",
       "[2700 rows x 2 columns]"
      ]
     },
     "execution_count": 35,
     "metadata": {},
     "output_type": "execute_result"
    }
   ],
   "source": [
    "asq_test_details"
   ]
  },
  {
   "cell_type": "code",
   "execution_count": 82,
   "metadata": {},
   "outputs": [],
   "source": [
    "def process_matching(test_df, directory_df):\n",
    "\n",
    "    blocking_rules = [\n",
    "        block_on(\"city\",\"postalcode\"),\n",
    "    ]\n",
    "\n",
    "    db_api = DuckDBAPI()\n",
    "\n",
    "    settings = SettingsCreator(\n",
    "        link_type=\"link_only\",\n",
    "        blocking_rules_to_generate_predictions=blocking_rules,\n",
    "        comparisons=[\n",
    "            cl.ExactMatch(\"postalcode\"),\n",
    "            cl.NameComparison(\"street_address\"),\n",
    "            cl.NameComparison(\"city\"),\n",
    "            cl.NameComparison(\"state\"),\n",
    "        ],\n",
    "        retain_intermediate_calculation_columns=True,\n",
    "    )\n",
    " \n",
    "        \n",
    "    linker = Linker([directory_df, test_df], settings, db_api=db_api, input_table_aliases=[\"directory\", \"loadfile\"])\n",
    "\n",
    "    match_probability = 0.9799999999\n",
    "    max_pairs = 1e5\n",
    "    model_name = 'addr_matching.json'\n",
    "    session_rule =  \"(state = r.state and postalcode = r.postalcode)\"\n",
    "    linker.training.estimate_u_using_random_sampling(max_pairs=max_pairs, seed=42)\n",
    "    training_blocking_rule = block_on(session_rule)\n",
    "    \"\"\"\n",
    "    try:\n",
    "        training_session_names = (\n",
    "            linker.training.estimate_parameters_using_expectation_maximisation(\n",
    "            training_blocking_rule, estimate_without_term_frequencies=True\n",
    "            )\n",
    "        )\n",
    "    except:\n",
    "        training_session_names = (\n",
    "            linker.training.estimate_probability_two_random_records_match(\n",
    "            session_rule, recall=.7\n",
    "            )\n",
    "        )\n",
    "    \"\"\"\n",
    "    try:\n",
    "        df_predict = linker.inference.predict(threshold_match_probability=match_probability)\n",
    "        df_e = df_predict.as_pandas_dataframe()\n",
    "        linker.misc.save_model_to_json(model_name, overwrite=True)\n",
    "        return df_e\n",
    "    except Exception:\n",
    "        print(f'Predictor failed:')\n",
    "        \n",
    "        df_e = pd.DataFrame()\n",
    "        return df_e"
   ]
  },
  {
   "cell_type": "code",
   "execution_count": 83,
   "metadata": {},
   "outputs": [
    {
     "name": "stderr",
     "output_type": "stream",
     "text": [
      "INFO:splink.internals.estimate_u:----- Estimating u probabilities using random sampling -----\n",
      "INFO:splink.internals.m_u_records_to_parameters:u probability not trained for city - Jaro-Winkler distance of city >= 0.92 (comparison vector value: 3). This usually means the comparison level was never observed in the training data.\n",
      "INFO:splink.internals.m_u_records_to_parameters:u probability not trained for city - Jaro-Winkler distance of city >= 0.88 (comparison vector value: 2). This usually means the comparison level was never observed in the training data.\n",
      "INFO:splink.internals.m_u_records_to_parameters:u probability not trained for state - Jaro-Winkler distance of state >= 0.92 (comparison vector value: 3). This usually means the comparison level was never observed in the training data.\n",
      "INFO:splink.internals.m_u_records_to_parameters:u probability not trained for state - Jaro-Winkler distance of state >= 0.88 (comparison vector value: 2). This usually means the comparison level was never observed in the training data.\n",
      "INFO:splink.internals.m_u_records_to_parameters:u probability not trained for state - Jaro-Winkler distance of state >= 0.7 (comparison vector value: 1). This usually means the comparison level was never observed in the training data.\n",
      "INFO:splink.internals.m_u_records_to_parameters:u probability not trained for state - All other comparisons (comparison vector value: 0). This usually means the comparison level was never observed in the training data.\n",
      "INFO:splink.internals.estimate_u:\n",
      "Estimated u probabilities using random sampling\n",
      "INFO:splink.internals.settings:\n",
      "Your model is not yet fully trained. Missing estimates for:\n",
      "    - postalcode (no m values are trained).\n",
      "    - street_address (no m values are trained).\n",
      "    - city (some u values are not trained, no m values are trained).\n",
      "    - state (some u values are not trained, no m values are trained).\n"
     ]
    },
    {
     "data": {
      "application/vnd.jupyter.widget-view+json": {
       "model_id": "ebb98f0c3bf743fcb109e40086f64991",
       "version_major": 2,
       "version_minor": 0
      },
      "text/plain": [
       "FloatProgress(value=0.0, layout=Layout(width='auto'), style=ProgressStyle(bar_color='black'))"
      ]
     },
     "metadata": {},
     "output_type": "display_data"
    },
    {
     "name": "stderr",
     "output_type": "stream",
     "text": [
      "INFO:splink.internals.linker_components.inference:Blocking time: 3.06 seconds\n"
     ]
    },
    {
     "data": {
      "application/vnd.jupyter.widget-view+json": {
       "model_id": "c5813ad06ae94fa8b79166ace27d2f5e",
       "version_major": 2,
       "version_minor": 0
      },
      "text/plain": [
       "FloatProgress(value=0.0, layout=Layout(width='auto'), style=ProgressStyle(bar_color='black'))"
      ]
     },
     "metadata": {},
     "output_type": "display_data"
    },
    {
     "name": "stderr",
     "output_type": "stream",
     "text": [
      "INFO:splink.internals.linker_components.inference:Predict time: 10.98 seconds\n",
      "WARNING:splink.internals.linker:\n",
      " -- WARNING --\n",
      "You have called predict(), but there are some parameter estimates which have neither been estimated or specified in your settings dictionary.  To produce predictions the following untrained trained parameters will use default values.\n",
      "Comparison: 'postalcode':\n",
      "    m values not fully trained\n",
      "Comparison: 'street_address':\n",
      "    m values not fully trained\n",
      "Comparison: 'city':\n",
      "    m values not fully trained\n",
      "Comparison: 'city':\n",
      "    u values not fully trained\n",
      "Comparison: 'state':\n",
      "    m values not fully trained\n",
      "Comparison: 'state':\n",
      "    u values not fully trained\n",
      "The 'probability_two_random_records_match' setting has been set to the default value (0.0001). \n",
      "If this is not the desired behaviour, either: \n",
      " - assign a value for `probability_two_random_records_match` in your settings dictionary, or \n",
      " - estimate with the `linker.estimate_probability_two_random_records_match` function.\n"
     ]
    }
   ],
   "source": [
    "df = process_matching(asq_test_details, respondent_address)"
   ]
  },
  {
   "cell_type": "code",
   "execution_count": 84,
   "metadata": {},
   "outputs": [],
   "source": [
    "df.to_excel('output.xlsx', index=False)"
   ]
  },
  {
   "cell_type": "code",
   "execution_count": 85,
   "metadata": {},
   "outputs": [
    {
     "data": {
      "application/vnd.jupyter.widget-view+json": {
       "model_id": "cd7a192962ef45a5897184d1801171ed",
       "version_major": 2,
       "version_minor": 0
      },
      "text/plain": [
       "FloatProgress(value=0.0, layout=Layout(width='auto'), style=ProgressStyle(bar_color='black'))"
      ]
     },
     "metadata": {},
     "output_type": "display_data"
    },
    {
     "name": "stderr",
     "output_type": "stream",
     "text": [
      "INFO:splink.internals.linker_components.inference:Blocking time: 2.97 seconds\n"
     ]
    },
    {
     "data": {
      "application/vnd.jupyter.widget-view+json": {
       "model_id": "fa57e88354aa49b6b31b72b98d92bc6f",
       "version_major": 2,
       "version_minor": 0
      },
      "text/plain": [
       "FloatProgress(value=0.0, layout=Layout(width='auto'), style=ProgressStyle(bar_color='black'))"
      ]
     },
     "metadata": {},
     "output_type": "display_data"
    },
    {
     "name": "stderr",
     "output_type": "stream",
     "text": [
      "INFO:splink.internals.linker_components.inference:Predict time: 10.93 seconds\n",
      "WARNING:splink.internals.linker:\n",
      " -- WARNING --\n",
      "You have called predict(), but there are some parameter estimates which have neither been estimated or specified in your settings dictionary.  To produce predictions the following untrained trained parameters will use default values.\n",
      "Comparison: 'postalcode':\n",
      "    m values not fully trained\n",
      "Comparison: 'street_address':\n",
      "    m values not fully trained\n",
      "Comparison: 'city':\n",
      "    m values not fully trained\n",
      "Comparison: 'city':\n",
      "    u values not fully trained\n",
      "Comparison: 'state':\n",
      "    m values not fully trained\n",
      "Comparison: 'state':\n",
      "    u values not fully trained\n",
      "The 'probability_two_random_records_match' setting has been set to the default value (0.0001). \n",
      "If this is not the desired behaviour, either: \n",
      " - assign a value for `probability_two_random_records_match` in your settings dictionary, or \n",
      " - estimate with the `linker.estimate_probability_two_random_records_match` function.\n"
     ]
    },
    {
     "name": "stdout",
     "output_type": "stream",
     "text": [
      "      match_weight  match_probability source_dataset_l source_dataset_r  \\\n",
      "0        10.395905           0.999258              df1              df2   \n",
      "1         7.886216           0.995791              df1              df2   \n",
      "2         7.886216           0.995791              df1              df2   \n",
      "3         6.078861           0.985422              df1              df2   \n",
      "4         7.886216           0.995791              df1              df2   \n",
      "...            ...                ...              ...              ...   \n",
      "2571      6.932211           0.991878              df1              df2   \n",
      "2572      7.517173           0.994571              df1              df2   \n",
      "2573      5.932211           0.983887              df1              df2   \n",
      "2574      7.517173           0.994571              df1              df2   \n",
      "2575      6.517173           0.989200              df1              df2   \n",
      "\n",
      "                               unique_id_l  \\\n",
      "0     f4f568bb-ee02-427f-b41c-9bcc0f81688a   \n",
      "1     c5b483c9-123e-478b-ad88-323f3536921f   \n",
      "2     51fe370a-2da6-4d37-9013-c984ae68df3f   \n",
      "3     bdc19df2-3529-4dbf-aa3f-854722c0f33e   \n",
      "4     7d4633a2-3dae-4b34-ab99-3c326e01863b   \n",
      "...                                    ...   \n",
      "2571  4649b257-28f8-4265-9b02-43fa0d4f5ed9   \n",
      "2572  5d01bfee-b982-42aa-81bf-48b1d5e583f0   \n",
      "2573  288a3f9a-2240-447f-ab2b-12e6cd598c2d   \n",
      "2574  94439d5c-852f-48a7-b3d3-d799602778e5   \n",
      "2575  1e1e764d-0a48-4443-8c48-0ad8e58e2e17   \n",
      "\n",
      "                               unique_id_r postalcode_l postalcode_r  \\\n",
      "0     143242f9-e5bc-4654-bd48-65865707f14d        94920        94920   \n",
      "1     389e8e3d-1272-4629-b4c7-5188abc414be        94945        94945   \n",
      "2     086caaa9-9d17-4e46-831a-c329c4110177        94945        94945   \n",
      "3     66a9d7b8-c574-454b-a043-1e25e79dfc91        94945        94945   \n",
      "4     253536e5-c0b1-475d-a1eb-8fe05b67cee0        94945        94945   \n",
      "...                                    ...          ...          ...   \n",
      "2571  23a329e6-43a8-46ef-972e-e11ed9d598b3        94901        94901   \n",
      "2572  b915f7bc-991f-4e58-96ba-3558bb85185a        94901        94901   \n",
      "2573  de2fd70b-a2dd-4532-b407-387d93bc32df        94901        94901   \n",
      "2574  a968febb-c8d5-4cb8-aa3d-25575ea91372        94901        94901   \n",
      "2575  c1fcf52e-2ff8-47af-b70d-b480788cd909        94901        94901   \n",
      "\n",
      "      gamma_postalcode  bf_postalcode  ... tf_city_r   bf_city  \\\n",
      "0                    1      11.429123  ...  0.040179  6.922454   \n",
      "1                    1      11.429123  ...  0.228820  6.922454   \n",
      "2                    1      11.429123  ...  0.228820  6.922454   \n",
      "3                    1      11.429123  ...  0.228820  6.922454   \n",
      "4                    1      11.429123  ...  0.228820  6.922454   \n",
      "...                ...            ...  ...       ...       ...   \n",
      "2571                 1      11.429123  ...  0.295520  6.922454   \n",
      "2572                 1      11.429123  ...  0.295520  6.922454   \n",
      "2573                 1      11.429123  ...  0.295520  6.922454   \n",
      "2574                 1      11.429123  ...  0.295520  6.922454   \n",
      "2575                 1      11.429123  ...  0.295520  6.922454   \n",
      "\n",
      "      bf_tf_adj_city  state_l  state_r  gamma_state  tf_state_l tf_state_r  \\\n",
      "0           3.415561       CA       CA            4         1.0        1.0   \n",
      "1           0.599750       CA       CA            4         1.0        1.0   \n",
      "2           0.599750       CA       CA            4         1.0        1.0   \n",
      "3           0.599750       CA       CA            4         1.0        1.0   \n",
      "4           0.599750       CA       CA            4         1.0        1.0   \n",
      "...              ...      ...      ...          ...         ...        ...   \n",
      "2571        0.464384       CA       CA            4         1.0        1.0   \n",
      "2572        0.464384       CA       CA            4         1.0        1.0   \n",
      "2573        0.464384       CA       CA            4         1.0        1.0   \n",
      "2574        0.464384       CA       CA            4         1.0        1.0   \n",
      "2575        0.464384       CA       CA            4         1.0        1.0   \n",
      "\n",
      "     bf_state  bf_tf_adj_state  \n",
      "0        0.95              1.0  \n",
      "1        0.95              1.0  \n",
      "2        0.95              1.0  \n",
      "3        0.95              1.0  \n",
      "4        0.95              1.0  \n",
      "...       ...              ...  \n",
      "2571     0.95              1.0  \n",
      "2572     0.95              1.0  \n",
      "2573     0.95              1.0  \n",
      "2574     0.95              1.0  \n",
      "2575     0.95              1.0  \n",
      "\n",
      "[2576 rows x 31 columns]\n"
     ]
    }
   ],
   "source": [
    "def load_model_and_predict(df1, df2, model_path, match_probability=0.9799999999):\n",
    "    db_api = DuckDBAPI()\n",
    "    \n",
    "    # Load the model\n",
    "    linker = Linker([df1, df2], model_path, db_api=db_api, input_table_aliases=[\"df1\", \"df2\"])\n",
    "    \n",
    "    # Run prediction\n",
    "    try:\n",
    "        df_predict = linker.inference.predict(threshold_match_probability=match_probability)\n",
    "        df_result = df_predict.as_pandas_dataframe()\n",
    "        return df_result\n",
    "    except Exception as e:\n",
    "        print(f'Prediction failed: {e}')\n",
    "        return pd.DataFrame()\n",
    "\n",
    "# Example usage\n",
    "model_path = 'addr_matching.json'\n",
    "result_df = load_model_and_predict(asq_test_details, respondent_address, model_path)\n",
    "print(result_df)"
   ]
  },
  {
   "cell_type": "code",
   "execution_count": 27,
   "metadata": {},
   "outputs": [
    {
     "data": {
      "text/html": [
       "<div>\n",
       "<style scoped>\n",
       "    .dataframe tbody tr th:only-of-type {\n",
       "        vertical-align: middle;\n",
       "    }\n",
       "\n",
       "    .dataframe tbody tr th {\n",
       "        vertical-align: top;\n",
       "    }\n",
       "\n",
       "    .dataframe thead th {\n",
       "        text-align: right;\n",
       "    }\n",
       "</style>\n",
       "<table border=\"1\" class=\"dataframe\">\n",
       "  <thead>\n",
       "    <tr style=\"text-align: right;\">\n",
       "      <th></th>\n",
       "      <th>match_weight</th>\n",
       "      <th>match_probability</th>\n",
       "      <th>source_dataset_l</th>\n",
       "      <th>source_dataset_r</th>\n",
       "      <th>unique_id_l</th>\n",
       "      <th>unique_id_r</th>\n",
       "      <th>postalcode_l</th>\n",
       "      <th>postalcode_r</th>\n",
       "      <th>gamma_postalcode</th>\n",
       "      <th>bf_postalcode</th>\n",
       "      <th>...</th>\n",
       "      <th>gamma_street_address</th>\n",
       "      <th>bf_street_address</th>\n",
       "      <th>city_l</th>\n",
       "      <th>city_r</th>\n",
       "      <th>gamma_city</th>\n",
       "      <th>bf_city</th>\n",
       "      <th>state_l</th>\n",
       "      <th>state_r</th>\n",
       "      <th>gamma_state</th>\n",
       "      <th>bf_state</th>\n",
       "    </tr>\n",
       "  </thead>\n",
       "  <tbody>\n",
       "  </tbody>\n",
       "</table>\n",
       "<p>0 rows × 22 columns</p>\n",
       "</div>"
      ],
      "text/plain": [
       "Empty DataFrame\n",
       "Columns: [match_weight, match_probability, source_dataset_l, source_dataset_r, unique_id_l, unique_id_r, postalcode_l, postalcode_r, gamma_postalcode, bf_postalcode, street_address_l, street_address_r, gamma_street_address, bf_street_address, city_l, city_r, gamma_city, bf_city, state_l, state_r, gamma_state, bf_state]\n",
       "Index: []\n",
       "\n",
       "[0 rows x 22 columns]"
      ]
     },
     "execution_count": 27,
     "metadata": {},
     "output_type": "execute_result"
    }
   ],
   "source": [
    "result_df"
   ]
  },
  {
   "cell_type": "code",
   "execution_count": null,
   "metadata": {},
   "outputs": [],
   "source": []
  }
 ],
 "metadata": {
  "kernelspec": {
   "display_name": "base",
   "language": "python",
   "name": "python3"
  },
  "language_info": {
   "codemirror_mode": {
    "name": "ipython",
    "version": 3
   },
   "file_extension": ".py",
   "mimetype": "text/x-python",
   "name": "python",
   "nbconvert_exporter": "python",
   "pygments_lexer": "ipython3",
   "version": "3.12.4"
  }
 },
 "nbformat": 4,
 "nbformat_minor": 2
}
